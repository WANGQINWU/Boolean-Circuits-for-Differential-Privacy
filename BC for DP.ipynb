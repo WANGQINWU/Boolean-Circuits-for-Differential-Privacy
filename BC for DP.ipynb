{
 "cells": [
  {
   "cell_type": "markdown",
   "metadata": {},
   "source": [
    "Randomised Reponse"
   ]
  },
  {
   "cell_type": "markdown",
   "metadata": {},
   "source": [
    "1. Produce bc with BC.py"
   ]
  },
  {
   "cell_type": "markdown",
   "metadata": {},
   "source": [
    "1.1 Generate Boolean Circuits from BcSequence Class, which contains getbc() function to return the context of generated bc. \n",
    "BcSequence requires a argument, a list contain bc information, like [0,1,0] represents \\n\n",
    "\n",
    "x->or and or ...-|\n",
    "\t\t\t\t|->Not()->>\n",
    "x->and or and...-|\n",
    "\n",
    "return of getbc() is used to find solution of lying, hence it contain a constrain of y!=x. here x is input and y is the output."
   ]
  },
  {
   "cell_type": "code",
   "execution_count": 3,
   "metadata": {},
   "outputs": [
    {
     "name": "stdout",
     "output_type": "stream",
     "text": [
      "(If(x == False,\n   Not(Or(And(Or(x, r0), r1), r2)),\n   Not(And(Or(And(x, r0), r1), r2))) ==\ny, y != x)\n"
     ]
    }
   ],
   "source": [
    "from BooleanCircuit.BC import BcSequence\n",
    "\n",
    "bcSequence = BcSequence([0, 1, 0])\n",
    "bc = bcSequence.getbc()\n",
    "print(bc)"
   ]
  },
  {
   "cell_type": "markdown",
   "metadata": {},
   "source": [
    "2. Produce output with input and randomizer."
   ]
  },
  {
   "cell_type": "markdown",
   "metadata": {},
   "source": [
    "2.1 get epsilon and calculate the length of bc. \n",
    "BcSequence contain a function to return result with input and random group.\n",
    "here randomizer"
   ]
  },
  {
   "cell_type": "code",
   "execution_count": 3,
   "metadata": {
    "collapsed": false
   },
   "outputs": [
    {
     "name": "stdout",
     "output_type": "stream",
     "text": [
      "[x = True, r2 = True, r1 = True, r0 = False, y = True]\n[x = True, r2 = True, r1 = False, r0 = True, y = True]\n[x = True, r2 = False, r1 = True, r0 = True, y = True]\n[x = False, r2 = True, r1 = False, r0 = False, y = False]\n[x = False, r2 = True, r1 = False, r0 = True, y = False]\n[x = False, r2 = False, r1 = False, r0 = True, y = False]\n"
     ]
    },
    {
     "name": "stdout",
     "output_type": "stream",
     "text": [
      "[x = True, r2 = True, r1 = True, r0 = True, y = False]\n[x = True, r2 = False, r1 = False, r0 = True, y = True]\n[x = True, r2 = True, r1 = True, r0 = True, y = False]\nIf(x == False,\n   Not(Or(Or(Or(x, r0), r1), r2)),\n   Not(And(And(And(x, r0), r1), r2))) ==\ny\nRandomized result:\n[True, True, True, False, False, False, False, True, False]\n[1, 1, 1, 0, 0, 0, 0, 1, 0]\n"
     ]
    }
   ],
   "source": [
    "from z3 import *\n",
    "from randomize import Randomize\n",
    "\n",
    "input = '111000111'\n",
    "value = [int(i) for i in list(input)]\n",
    "\n",
    "# epsilon of differential privacy\n",
    "epsilon = math.exp(math.log(7))\n",
    "\n",
    "length_of_bc = math.log(epsilon + 1, 2)\n",
    "randomizer = Randomize(int(length_of_bc))\n",
    "\n",
    "# puer or chain satisfy 1/e^epsilon+1 probability of lying \n",
    "seq = []\n",
    "\n",
    "for i in range(int(length_of_bc)):\n",
    "    seq.append(0)\n",
    "\n",
    "bcSequence = BcSequence(seq)\n",
    "randomized_result = bcSequence.get_outputs(value, randomizer)\n",
    "\n",
    "print bcSequence.get_out_bc()\n",
    "print \"Randomized result:\"\n",
    "print randomized_result\n",
    "\n",
    "transform_result = []\n",
    "for i in randomized_result:\n",
    "    transform_result.append(bcSequence.transform_bool(i))\n",
    "    \n",
    "print transform_result"
   ]
  },
  {
   "cell_type": "code",
   "execution_count": 2,
   "metadata": {},
   "outputs": [
    {
     "name": "stdout",
     "output_type": "stream",
     "text": [
      "[0, 1, 0]\n"
     ]
    }
   ],
   "source": [
    "from randomize import Randomize\n",
    "\n",
    "randomizer = Randomize(3)\n",
    "print randomizer.get_random_seq()"
   ]
  },
  {
   "cell_type": "heading",
   "metadata": {},
   "level": 2,
   "source": [
    "##3. BcSequence inherit from BcStat Class, hence it have functions on finding solution and calculate probability."
   ]
  },
  {
   "cell_type": "code",
   "execution_count": 7,
   "metadata": {},
   "outputs": [
    {
     "name": "stdout",
     "output_type": "stream",
     "text": [
      "(If(x == False,\n   Not(Or(Or(Or(x, r0), r1), r2)),\n   Not(And(And(And(x, r0), r1), r2))) ==\ny, y != x)\nstart search\nfinished search solution\n1\n0.125\n7.0\n"
     ]
    }
   ],
   "source": [
    "bc = bcSequence.getbc()\n",
    "print bc\n",
    "\n",
    "bcSequence.find_solution(bc)\n",
    "pro = bcSequence.find_probability()\n",
    "print pro\n",
    "\n",
    "cal_e_epsilon = bcSequence.find_epsilon()\n",
    "print cal_e_epsilon"
   ]
  },
  {
   "cell_type": "code",
   "execution_count": 8,
   "metadata": {},
   "outputs": [],
   "source": [
    "%matplotlib inline\n"
   ]
  },
  {
   "cell_type": "markdown",
   "metadata": {},
   "source": [
    "##4. get plots for different situations.\n",
    "like the find probability in differnt numbers of AND gate in the same length (n gate in length of 100).\n",
    "To shorten the time of finding the solution, here just find the solution when input is 1 (True). Solutions are all possible combination of random group to make bc lie"
   ]
  },
  {
   "cell_type": "code",
   "execution_count": null,
   "metadata": {},
   "outputs": [],
   "source": []
  },
  {
   "cell_type": "code",
   "execution_count": 5,
   "metadata": {
    "collapsed": false
   },
   "outputs": [
    {
     "name": "stdout",
     "output_type": "stream",
     "text": [
      "[0, 0, 0, 0, 0, 0, 0, 0, 0, 0, 0, 0, 0, 0, 0, 0, 0, 0, 0, 0, 0, 0, 0, 0, 0, 0, 0, 0, 0, 0, 0, 0, 0, 0, 0, 0, 0, 0, 0, 0, 0, 0, 0, 0, 0, 0, 0, 0, 0, 0, 0, 0, 0, 0, 0, 0, 0, 0, 0, 0, 0, 0, 0, 0, 0, 0, 0, 0, 0, 0, 0, 0, 0, 0, 0, 0, 0, 0, 0, 0, 0, 0, 0, 0, 0, 0, 0, 0, 0, 0, 0, 0, 0, 0, 0, 0, 0, 0, 0, 0]\n"
     ]
    },
    {
     "data": {
      "image/png": "[encoded data removed]",
      "text/plain": [
       "<Figure size 432x288 with 1 Axes>"
      ]
     },
     "metadata": {},
     "output_type": "display_data"
    }
   ],
   "source": [
    "%matplotlib inline\n",
    "\n",
    "import matplotlib.pyplot as plt\n",
    "from BooleanCircuit.BC import BcSequence\n",
    "x_data1 = []\n",
    "y_data1 = []\n",
    "y_data2 = []\n",
    "\n",
    "# inital pure chain first\n",
    "seq1 = [0 for i in range(100)]\n",
    "print seq1\n",
    "\n",
    "bcSequence1 = BcSequence(seq1)\n",
    "t_bc1 = bcSequence1.get_t_bc()\n",
    "bcSequence1.find_solution(t_bc1)\n",
    "\n",
    "x_data1.append(0)\n",
    "y_data1.append(bcSequence1.gettime())\n",
    "y_data2.append(bcSequence1.find_probability())\n",
    "\n",
    "for i in range(98):\n",
    "    seq1[i + 1] = 1\n",
    "    bcSequence1 = BcSequence(seq1)\n",
    "    t_bc1 = bcSequence1.get_t_bc()\n",
    "    bcSequence1.find_solution(t_bc1)\n",
    "    x_data1.append(i + 1)\n",
    "    y_data1.append(bcSequence1.gettime())\n",
    "    y_data2.append(float(bcSequence1.find_probability()))\n",
    "    \n",
    "plt.plot(x_data1, y_data1, 'r')\n",
    "plt.yscale('log')\n",
    "plt.ylabel('time to find probability')\n",
    "plt.xlabel('number of AND in 100 gate')\n",
    "\n",
    "plt.show()"
   ]
  },
  {
   "cell_type": "code",
   "execution_count": 6,
   "metadata": {},
   "outputs": [
    {
     "data": {
      "image/png": "[encoded data removed]",
      "text/plain": [
       "<Figure size 432x288 with 1 Axes>"
      ]
     },
     "metadata": {},
     "output_type": "display_data"
    }
   ],
   "source": [
    "%matplotlib inline\n",
    "\n",
    "import matplotlib.pyplot as plt\n",
    "from BooleanCircuit.BC import BcSequence\n",
    "seq = [0, 0]\n",
    "\n",
    "x_data = []\n",
    "y_data = []\n",
    "\n",
    "for i in range(98):\n",
    "    for j in range(i):\n",
    "        seq.append(0)\n",
    "    bcSequence = BcSequence(seq)\n",
    "    bc = bcSequence.getbc()\n",
    "    bcSequence.find_solution(bc)\n",
    "    x_data.append(i + 2)\n",
    "    y_data.append(bcSequence.gettime())\n",
    "\n",
    "plt.plot(x_data, y_data, 'r')\n",
    "plt.yscale('log')\n",
    "plt.ylabel('time to find solutions')\n",
    "plt.xlabel('number of OR gate')\n",
    "plt.show()"
   ]
  },
  {
   "cell_type": "code",
   "execution_count": null,
   "metadata": {},
   "outputs": [],
   "source": []
  }
 ],
 "metadata": {
  "kernelspec": {
   "display_name": "Python 3",
   "language": "python",
   "name": "python3"
  },
  "language_info": {
   "codemirror_mode": {
    "name": "ipython",
    "version": 3
   },
   "file_extension": ".py",
   "mimetype": "text/x-python",
   "name": "python",
   "nbconvert_exporter": "python",
   "pygments_lexer": "ipython3",
   "version": "3.7.0"
  }
 },
 "nbformat": 4,
 "nbformat_minor": 2
}
